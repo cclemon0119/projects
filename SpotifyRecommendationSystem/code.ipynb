{
 "cells": [
  {
   "cell_type": "code",
   "execution_count": 1,
   "id": "dbcd3b0a-a22e-48e0-ab0b-cf40ccc860c5",
   "metadata": {},
   "outputs": [],
   "source": [
    "import json\n",
    "\n",
    "import numpy as np\n",
    "import pandas as pd\n",
    "import matplotlib.pyplot as plt\n",
    "\n",
    "from collections import Counter\n",
    "\n",
    "import time\n",
    "import spotipy\n",
    "import spotipy.util as util\n",
    "from spotipy.oauth2 import SpotifyClientCredentials\n",
    "from requests import post, get\n",
    "import base64"
   ]
  },
  {
   "cell_type": "code",
   "execution_count": null,
   "id": "7443b2ae",
   "metadata": {},
   "outputs": [],
   "source": [
    "df = pd.read_csv(\"df.csv\")"
   ]
  },
  {
   "cell_type": "code",
   "execution_count": null,
   "id": "6de8b5d9",
   "metadata": {},
   "outputs": [],
   "source": [
    "data = pd.read_csv(\"data.csv\")\n",
    "artist = pd.read_csv(\"data_by_artist.csv\")\n",
    "genre = pd.read_csv(\"data_by_genres.csv\")\n",
    "year = pd.read_csv(\"data_by_year.csv\")\n",
    "genres = pd.read_csv(\"data_w_genres.csv\")"
   ]
  },
  {
   "cell_type": "markdown",
   "id": "cea45762-639b-41ad-a106-2d23a7f7e13a",
   "metadata": {},
   "source": [
    "track的音訊變數的解釋：\n",
    "https://developer.spotify.com/documentation/web-api/reference/get-audio-features\n",
    "\n",
    "\n",
    "額外的音訊分析變數：\n",
    "https://developer.spotify.com/documentation/web-api/reference/get-audio-analysis"
   ]
  },
  {
   "cell_type": "markdown",
   "id": "83a46143-6815-4cec-8522-67bd355c3250",
   "metadata": {},
   "source": [
    "## 蒐集Spotify歌曲資料的音樂類別資訊（genres）"
   ]
  },
  {
   "cell_type": "code",
   "execution_count": null,
   "id": "9ef4280d",
   "metadata": {},
   "outputs": [],
   "source": [
    "client_id=''\n",
    "client_secret=''\n",
    "\n",
    "sp = spotipy.Spotify(auth_manager=SpotifyClientCredentials(client_id=client_id,client_secret=client_secret))"
   ]
  },
  {
   "cell_type": "code",
   "execution_count": null,
   "id": "17196ba3-9aa0-482f-8bc1-e023b7baebb1",
   "metadata": {},
   "outputs": [],
   "source": [
    "start_index = 0\n",
    "end_index = 134001\n",
    "batch_size = 50\n",
    "\n",
    "for i in range(start_index, end_index, batch_size):\n",
    "    # 取得要處理的 track_ids\n",
    "    track_ids = df.iloc[i:i+batch_size]['id'].tolist()\n",
    "\n",
    "    # 使用 Spotify API 取得 tracks 的詳細資訊\n",
    "    tracks_info = sp.tracks(track_ids)\n",
    "\n",
    "    # 建立一個空的 DataFrame 來存儲結果\n",
    "    result_df = pd.DataFrame(columns=['id', 'genres'])\n",
    "\n",
    "    time.sleep(0.3) \n",
    "    # 遍歷每個 track 的詳細資訊\n",
    "    for track_info in tracks_info['tracks']:\n",
    "        artists = track_info['artists']\n",
    "        artist_ids = [artist['id'] for artist in artists]\n",
    "        \n",
    "        # 使用 Spotify API 一次性獲取所有藝術家的詳細資訊\n",
    "        artists_info = sp.artists(artist_ids)\n",
    "\n",
    "        # 提取每個藝術家的音樂流派並存儲到 genres_list 中\n",
    "        genres_list = []\n",
    "        for artist_info in artists_info['artists']:\n",
    "            genres_list.extend(artist_info['genres'])\n",
    "\n",
    "        # 將 track 的 ID 和音樂流派資訊存儲到 result_df 中\n",
    "        result_df = pd.concat([result_df, pd.DataFrame({'id': [track_info['id']], 'genres': [genres_list]})], ignore_index=True)\n",
    "        time.sleep(0.5) \n",
    "\n",
    "    # 將結果合併到原始 DataFrame 中\n",
    "    df.iloc[i:i+batch_size, df.columns.get_loc('genres')] = result_df['genres']"
   ]
  },
  {
   "cell_type": "markdown",
   "id": "245277ec-be7a-4803-a6fd-0fe853dc8906",
   "metadata": {},
   "source": [
    "### 用先前已蒐集的歌曲資料進行整理"
   ]
  },
  {
   "cell_type": "code",
   "execution_count": null,
   "id": "35e08944",
   "metadata": {},
   "outputs": [],
   "source": [
    "start = 147001\n",
    "end = 149001\n",
    "\n",
    "for i in range(start, end):\n",
    "    target = df.iloc[i]['artists']\n",
    "    # 去除特殊符號 []\n",
    "    target = target.strip(\"[]\").replace(\"'\", \"\").split(\", \")\n",
    "    # 找出完全符合 target 的索引\n",
    "    index = df[df['artists'].apply(lambda x: x.strip(\"[]\").replace(\"'\", \"\").split(\", \") == target)]\n",
    "    if not index.empty:\n",
    "        if i > index.index[0]:  # i 大於 index\n",
    "            df.at[i, 'genres'] = index.iloc[0]['genres']"
   ]
  },
  {
   "cell_type": "markdown",
   "id": "24a56f9d",
   "metadata": {},
   "source": [
    "### 補齊遺漏未蒐集資料的Genres"
   ]
  },
  {
   "cell_type": "code",
   "execution_count": null,
   "id": "4750f420",
   "metadata": {},
   "outputs": [],
   "source": [
    "na_data = df[(df['genres'].isnull()) & (df.index >= start) & (df.index < end)].index"
   ]
  },
  {
   "cell_type": "code",
   "execution_count": null,
   "id": "abeb4e3d",
   "metadata": {},
   "outputs": [],
   "source": [
    "track_ids = df.iloc[na_data]['id'].tolist()"
   ]
  },
  {
   "cell_type": "code",
   "execution_count": null,
   "id": "012f5711",
   "metadata": {},
   "outputs": [],
   "source": [
    "result_df = pd.DataFrame(columns=['id', 'genres'])\n",
    "\n",
    "# 分批處理每一組 50 筆資料\n",
    "for i in range(0, len(na_data), 50):\n",
    "    # 取得這一組的 track_ids\n",
    "    batch_track_ids = track_ids[i:i+50]\n",
    "    \n",
    "    # 使用 Spotify API 獲取這一組 track 的詳細資訊\n",
    "    tracks_info = sp.tracks(batch_track_ids)\n",
    "    \n",
    "    # 初始化存儲每一組結果的 DataFrame\n",
    "    batch_result_df = pd.DataFrame(columns=['id', 'genres'])\n",
    "    \n",
    "    # 遍歷每個 track 的詳細資訊\n",
    "    for track_info in tracks_info['tracks']:\n",
    "        artists = track_info['artists']\n",
    "        artist_ids = [artist['id'] for artist in artists]\n",
    "\n",
    "        # 使用 Spotify API 獲取每個藝術家的詳細資訊\n",
    "        artists_info = sp.artists(artist_ids)\n",
    "\n",
    "        # 提取每個藝術家的音樂流派並存儲到 genres_list 中\n",
    "        genres_set = set()  # 使用集合來去除重複的值\n",
    "        for artist_info in artists_info['artists']:\n",
    "            genres_set.update(artist_info['genres'])  # 使用 update 方法將所有流派加入集合中\n",
    "\n",
    "        # 將集合轉換為列表，並將其存入 batch_result_df 中\n",
    "        genres_list = list(genres_set)\n",
    "    \n",
    "        # 將 track 的 ID 和音樂流派資訊存儲到 batch_result_df 中\n",
    "        batch_result_df = pd.concat([batch_result_df, pd.DataFrame({'id': [track_info['id']], 'genres': [genres_list]})], ignore_index=True)\n",
    "    # 將這一組結果存入 result_df 中\n",
    "    result_df = pd.concat([result_df, batch_result_df], ignore_index=True)\n",
    "\n",
    "# 將結果更新到原始 DataFrame 中\n",
    "df.iloc[na_data, df.columns.get_loc('genres')] = result_df['genres']"
   ]
  },
  {
   "cell_type": "code",
   "execution_count": null,
   "id": "dfd55c7a",
   "metadata": {},
   "outputs": [],
   "source": [
    "df.iloc[na_data, df.columns.get_loc('genres')] = result_df['genres']"
   ]
  },
  {
   "cell_type": "code",
   "execution_count": null,
   "id": "c4762323",
   "metadata": {},
   "outputs": [],
   "source": [
    "df.to_csv('df.csv', index=False) "
   ]
  }
 ],
 "metadata": {
  "kernelspec": {
   "display_name": "Python 3 (ipykernel)",
   "language": "python",
   "name": "python3"
  },
  "language_info": {
   "codemirror_mode": {
    "name": "ipython",
    "version": 3
   },
   "file_extension": ".py",
   "mimetype": "text/x-python",
   "name": "python",
   "nbconvert_exporter": "python",
   "pygments_lexer": "ipython3",
   "version": "3.11.7"
  }
 },
 "nbformat": 4,
 "nbformat_minor": 5
}
