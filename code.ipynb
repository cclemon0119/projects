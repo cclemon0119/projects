{
 "cells": [
  {
   "cell_type": "code",
   "execution_count": 1,
   "id": "e80da593",
   "metadata": {},
   "outputs": [
    {
     "name": "stdout",
     "output_type": "stream",
     "text": [
      "Requirement already satisfied: notebook in /opt/anaconda3/lib/python3.11/site-packages (6.5.4)\n",
      "Requirement already satisfied: jinja2 in /opt/anaconda3/lib/python3.11/site-packages (from notebook) (3.1.3)\n",
      "Requirement already satisfied: tornado>=6.1 in /opt/anaconda3/lib/python3.11/site-packages (from notebook) (6.3.3)\n",
      "Requirement already satisfied: pyzmq>=17 in /opt/anaconda3/lib/python3.11/site-packages (from notebook) (24.0.1)\n",
      "Requirement already satisfied: argon2-cffi in /opt/anaconda3/lib/python3.11/site-packages (from notebook) (21.3.0)\n",
      "Requirement already satisfied: traitlets>=4.2.1 in /opt/anaconda3/lib/python3.11/site-packages (from notebook) (5.7.1)\n",
      "Requirement already satisfied: jupyter-core>=4.6.1 in /opt/anaconda3/lib/python3.11/site-packages (from notebook) (5.5.0)\n",
      "Requirement already satisfied: jupyter-client>=5.3.4 in /opt/anaconda3/lib/python3.11/site-packages (from notebook) (7.4.9)\n",
      "Requirement already satisfied: ipython-genutils in /opt/anaconda3/lib/python3.11/site-packages (from notebook) (0.2.0)\n",
      "Requirement already satisfied: nbformat in /opt/anaconda3/lib/python3.11/site-packages (from notebook) (5.9.2)\n",
      "Requirement already satisfied: nbconvert>=5 in /opt/anaconda3/lib/python3.11/site-packages (from notebook) (7.10.0)\n",
      "Requirement already satisfied: nest-asyncio>=1.5 in /opt/anaconda3/lib/python3.11/site-packages (from notebook) (1.6.0)\n",
      "Requirement already satisfied: ipykernel in /opt/anaconda3/lib/python3.11/site-packages (from notebook) (6.28.0)\n",
      "Requirement already satisfied: Send2Trash>=1.8.0 in /opt/anaconda3/lib/python3.11/site-packages (from notebook) (1.8.2)\n",
      "Requirement already satisfied: terminado>=0.8.3 in /opt/anaconda3/lib/python3.11/site-packages (from notebook) (0.17.1)\n",
      "Requirement already satisfied: prometheus-client in /opt/anaconda3/lib/python3.11/site-packages (from notebook) (0.14.1)\n",
      "Requirement already satisfied: nbclassic>=0.4.7 in /opt/anaconda3/lib/python3.11/site-packages (from notebook) (1.0.0)\n",
      "Requirement already satisfied: entrypoints in /opt/anaconda3/lib/python3.11/site-packages (from jupyter-client>=5.3.4->notebook) (0.4)\n",
      "Requirement already satisfied: python-dateutil>=2.8.2 in /opt/anaconda3/lib/python3.11/site-packages (from jupyter-client>=5.3.4->notebook) (2.8.2)\n",
      "Requirement already satisfied: platformdirs>=2.5 in /opt/anaconda3/lib/python3.11/site-packages (from jupyter-core>=4.6.1->notebook) (3.10.0)\n",
      "Requirement already satisfied: jupyter-server>=1.8 in /opt/anaconda3/lib/python3.11/site-packages (from nbclassic>=0.4.7->notebook) (2.10.0)\n",
      "Requirement already satisfied: notebook-shim>=0.2.3 in /opt/anaconda3/lib/python3.11/site-packages (from nbclassic>=0.4.7->notebook) (0.2.3)\n",
      "Requirement already satisfied: beautifulsoup4 in /opt/anaconda3/lib/python3.11/site-packages (from nbconvert>=5->notebook) (4.12.2)\n",
      "Requirement already satisfied: bleach!=5.0.0 in /opt/anaconda3/lib/python3.11/site-packages (from nbconvert>=5->notebook) (4.1.0)\n",
      "Requirement already satisfied: defusedxml in /opt/anaconda3/lib/python3.11/site-packages (from nbconvert>=5->notebook) (0.7.1)\n",
      "Requirement already satisfied: jupyterlab-pygments in /opt/anaconda3/lib/python3.11/site-packages (from nbconvert>=5->notebook) (0.1.2)\n",
      "Requirement already satisfied: markupsafe>=2.0 in /opt/anaconda3/lib/python3.11/site-packages (from nbconvert>=5->notebook) (2.1.3)\n",
      "Requirement already satisfied: mistune<4,>=2.0.3 in /opt/anaconda3/lib/python3.11/site-packages (from nbconvert>=5->notebook) (2.0.4)\n",
      "Requirement already satisfied: nbclient>=0.5.0 in /opt/anaconda3/lib/python3.11/site-packages (from nbconvert>=5->notebook) (0.8.0)\n",
      "Requirement already satisfied: packaging in /opt/anaconda3/lib/python3.11/site-packages (from nbconvert>=5->notebook) (23.1)\n",
      "Requirement already satisfied: pandocfilters>=1.4.1 in /opt/anaconda3/lib/python3.11/site-packages (from nbconvert>=5->notebook) (1.5.0)\n",
      "Requirement already satisfied: pygments>=2.4.1 in /opt/anaconda3/lib/python3.11/site-packages (from nbconvert>=5->notebook) (2.15.1)\n",
      "Requirement already satisfied: tinycss2 in /opt/anaconda3/lib/python3.11/site-packages (from nbconvert>=5->notebook) (1.2.1)\n",
      "Requirement already satisfied: fastjsonschema in /opt/anaconda3/lib/python3.11/site-packages (from nbformat->notebook) (2.16.2)\n",
      "Requirement already satisfied: jsonschema>=2.6 in /opt/anaconda3/lib/python3.11/site-packages (from nbformat->notebook) (4.19.2)\n",
      "Requirement already satisfied: ptyprocess in /opt/anaconda3/lib/python3.11/site-packages (from terminado>=0.8.3->notebook) (0.7.0)\n",
      "Requirement already satisfied: argon2-cffi-bindings in /opt/anaconda3/lib/python3.11/site-packages (from argon2-cffi->notebook) (21.2.0)\n",
      "Requirement already satisfied: appnope in /opt/anaconda3/lib/python3.11/site-packages (from ipykernel->notebook) (0.1.2)\n",
      "Requirement already satisfied: comm>=0.1.1 in /opt/anaconda3/lib/python3.11/site-packages (from ipykernel->notebook) (0.1.2)\n",
      "Requirement already satisfied: debugpy>=1.6.5 in /opt/anaconda3/lib/python3.11/site-packages (from ipykernel->notebook) (1.6.7)\n",
      "Requirement already satisfied: ipython>=7.23.1 in /opt/anaconda3/lib/python3.11/site-packages (from ipykernel->notebook) (8.20.0)\n",
      "Requirement already satisfied: matplotlib-inline>=0.1 in /opt/anaconda3/lib/python3.11/site-packages (from ipykernel->notebook) (0.1.6)\n",
      "Requirement already satisfied: psutil in /opt/anaconda3/lib/python3.11/site-packages (from ipykernel->notebook) (5.9.0)\n",
      "Requirement already satisfied: six>=1.9.0 in /opt/anaconda3/lib/python3.11/site-packages (from bleach!=5.0.0->nbconvert>=5->notebook) (1.16.0)\n",
      "Requirement already satisfied: webencodings in /opt/anaconda3/lib/python3.11/site-packages (from bleach!=5.0.0->nbconvert>=5->notebook) (0.5.1)\n",
      "Requirement already satisfied: decorator in /opt/anaconda3/lib/python3.11/site-packages (from ipython>=7.23.1->ipykernel->notebook) (5.1.1)\n",
      "Requirement already satisfied: jedi>=0.16 in /opt/anaconda3/lib/python3.11/site-packages (from ipython>=7.23.1->ipykernel->notebook) (0.18.1)\n",
      "Requirement already satisfied: prompt-toolkit<3.1.0,>=3.0.41 in /opt/anaconda3/lib/python3.11/site-packages (from ipython>=7.23.1->ipykernel->notebook) (3.0.43)\n",
      "Requirement already satisfied: stack-data in /opt/anaconda3/lib/python3.11/site-packages (from ipython>=7.23.1->ipykernel->notebook) (0.2.0)\n",
      "Requirement already satisfied: pexpect>4.3 in /opt/anaconda3/lib/python3.11/site-packages (from ipython>=7.23.1->ipykernel->notebook) (4.8.0)\n",
      "Requirement already satisfied: attrs>=22.2.0 in /opt/anaconda3/lib/python3.11/site-packages (from jsonschema>=2.6->nbformat->notebook) (23.1.0)\n",
      "Requirement already satisfied: jsonschema-specifications>=2023.03.6 in /opt/anaconda3/lib/python3.11/site-packages (from jsonschema>=2.6->nbformat->notebook) (2023.7.1)\n",
      "Requirement already satisfied: referencing>=0.28.4 in /opt/anaconda3/lib/python3.11/site-packages (from jsonschema>=2.6->nbformat->notebook) (0.30.2)\n",
      "Requirement already satisfied: rpds-py>=0.7.1 in /opt/anaconda3/lib/python3.11/site-packages (from jsonschema>=2.6->nbformat->notebook) (0.10.6)\n",
      "Requirement already satisfied: anyio>=3.1.0 in /opt/anaconda3/lib/python3.11/site-packages (from jupyter-server>=1.8->nbclassic>=0.4.7->notebook) (4.2.0)\n",
      "Requirement already satisfied: jupyter-events>=0.6.0 in /opt/anaconda3/lib/python3.11/site-packages (from jupyter-server>=1.8->nbclassic>=0.4.7->notebook) (0.8.0)\n",
      "Requirement already satisfied: jupyter-server-terminals in /opt/anaconda3/lib/python3.11/site-packages (from jupyter-server>=1.8->nbclassic>=0.4.7->notebook) (0.4.4)\n",
      "Requirement already satisfied: overrides in /opt/anaconda3/lib/python3.11/site-packages (from jupyter-server>=1.8->nbclassic>=0.4.7->notebook) (7.4.0)\n",
      "Requirement already satisfied: websocket-client in /opt/anaconda3/lib/python3.11/site-packages (from jupyter-server>=1.8->nbclassic>=0.4.7->notebook) (0.58.0)\n",
      "Requirement already satisfied: cffi>=1.0.1 in /opt/anaconda3/lib/python3.11/site-packages (from argon2-cffi-bindings->argon2-cffi->notebook) (1.16.0)\n",
      "Requirement already satisfied: soupsieve>1.2 in /opt/anaconda3/lib/python3.11/site-packages (from beautifulsoup4->nbconvert>=5->notebook) (2.5)\n",
      "Requirement already satisfied: idna>=2.8 in /opt/anaconda3/lib/python3.11/site-packages (from anyio>=3.1.0->jupyter-server>=1.8->nbclassic>=0.4.7->notebook) (3.4)\n",
      "Requirement already satisfied: sniffio>=1.1 in /opt/anaconda3/lib/python3.11/site-packages (from anyio>=3.1.0->jupyter-server>=1.8->nbclassic>=0.4.7->notebook) (1.3.0)\n",
      "Requirement already satisfied: pycparser in /opt/anaconda3/lib/python3.11/site-packages (from cffi>=1.0.1->argon2-cffi-bindings->argon2-cffi->notebook) (2.21)\n",
      "Requirement already satisfied: parso<0.9.0,>=0.8.0 in /opt/anaconda3/lib/python3.11/site-packages (from jedi>=0.16->ipython>=7.23.1->ipykernel->notebook) (0.8.3)\n"
     ]
    },
    {
     "name": "stdout",
     "output_type": "stream",
     "text": [
      "Requirement already satisfied: python-json-logger>=2.0.4 in /opt/anaconda3/lib/python3.11/site-packages (from jupyter-events>=0.6.0->jupyter-server>=1.8->nbclassic>=0.4.7->notebook) (2.0.7)\n",
      "Requirement already satisfied: pyyaml>=5.3 in /opt/anaconda3/lib/python3.11/site-packages (from jupyter-events>=0.6.0->jupyter-server>=1.8->nbclassic>=0.4.7->notebook) (6.0.1)\n",
      "Requirement already satisfied: rfc3339-validator in /opt/anaconda3/lib/python3.11/site-packages (from jupyter-events>=0.6.0->jupyter-server>=1.8->nbclassic>=0.4.7->notebook) (0.1.4)\n",
      "Requirement already satisfied: rfc3986-validator>=0.1.1 in /opt/anaconda3/lib/python3.11/site-packages (from jupyter-events>=0.6.0->jupyter-server>=1.8->nbclassic>=0.4.7->notebook) (0.1.1)\n",
      "Requirement already satisfied: wcwidth in /opt/anaconda3/lib/python3.11/site-packages (from prompt-toolkit<3.1.0,>=3.0.41->ipython>=7.23.1->ipykernel->notebook) (0.2.5)\n",
      "Requirement already satisfied: executing in /opt/anaconda3/lib/python3.11/site-packages (from stack-data->ipython>=7.23.1->ipykernel->notebook) (0.8.3)\n",
      "Requirement already satisfied: asttokens in /opt/anaconda3/lib/python3.11/site-packages (from stack-data->ipython>=7.23.1->ipykernel->notebook) (2.0.5)\n",
      "Requirement already satisfied: pure-eval in /opt/anaconda3/lib/python3.11/site-packages (from stack-data->ipython>=7.23.1->ipykernel->notebook) (0.2.2)\n",
      "Collecting fqdn (from jsonschema[format-nongpl]>=4.18.0->jupyter-events>=0.6.0->jupyter-server>=1.8->nbclassic>=0.4.7->notebook)\n",
      "  Downloading fqdn-1.5.1-py3-none-any.whl.metadata (1.4 kB)\n",
      "Collecting isoduration (from jsonschema[format-nongpl]>=4.18.0->jupyter-events>=0.6.0->jupyter-server>=1.8->nbclassic>=0.4.7->notebook)\n",
      "  Downloading isoduration-20.11.0-py3-none-any.whl.metadata (5.7 kB)\n",
      "Requirement already satisfied: jsonpointer>1.13 in /opt/anaconda3/lib/python3.11/site-packages (from jsonschema[format-nongpl]>=4.18.0->jupyter-events>=0.6.0->jupyter-server>=1.8->nbclassic>=0.4.7->notebook) (2.1)\n",
      "Collecting uri-template (from jsonschema[format-nongpl]>=4.18.0->jupyter-events>=0.6.0->jupyter-server>=1.8->nbclassic>=0.4.7->notebook)\n",
      "  Downloading uri_template-1.3.0-py3-none-any.whl.metadata (8.8 kB)\n",
      "Collecting webcolors>=1.11 (from jsonschema[format-nongpl]>=4.18.0->jupyter-events>=0.6.0->jupyter-server>=1.8->nbclassic>=0.4.7->notebook)\n",
      "  Downloading webcolors-1.13-py3-none-any.whl.metadata (2.6 kB)\n",
      "Requirement already satisfied: arrow>=0.15.0 in /opt/anaconda3/lib/python3.11/site-packages (from isoduration->jsonschema[format-nongpl]>=4.18.0->jupyter-events>=0.6.0->jupyter-server>=1.8->nbclassic>=0.4.7->notebook) (1.2.3)\n",
      "Downloading webcolors-1.13-py3-none-any.whl (14 kB)\n",
      "Downloading fqdn-1.5.1-py3-none-any.whl (9.1 kB)\n",
      "Downloading isoduration-20.11.0-py3-none-any.whl (11 kB)\n",
      "Downloading uri_template-1.3.0-py3-none-any.whl (11 kB)\n",
      "Installing collected packages: webcolors, uri-template, fqdn, isoduration\n",
      "Successfully installed fqdn-1.5.1 isoduration-20.11.0 uri-template-1.3.0 webcolors-1.13\n",
      "Note: you may need to restart the kernel to use updated packages.\n"
     ]
    }
   ],
   "source": [
    "pip install notebook"
   ]
  },
  {
   "cell_type": "code",
   "execution_count": 1,
   "id": "dbcd3b0a-a22e-48e0-ab0b-cf40ccc860c5",
   "metadata": {},
   "outputs": [],
   "source": [
    "import json\n",
    "\n",
    "import numpy as np\n",
    "import pandas as pd\n",
    "import matplotlib.pyplot as plt\n",
    "\n",
    "from collections import Counter\n",
    "\n",
    "import time\n",
    "import spotipy\n",
    "import spotipy.util as util\n",
    "from spotipy.oauth2 import SpotifyClientCredentials\n",
    "from requests import post, get\n",
    "import base64"
   ]
  },
  {
   "cell_type": "code",
   "execution_count": 183,
   "id": "11be23a8-8243-4e70-8be9-a6769c364abc",
   "metadata": {},
   "outputs": [],
   "source": [
    "df = pd.read_csv(\"df.csv\")"
   ]
  },
  {
   "cell_type": "code",
   "execution_count": 179,
   "id": "3fa03713-b9fa-4165-ad03-ee585ff67ddf",
   "metadata": {},
   "outputs": [],
   "source": [
    "data = pd.read_csv(\"data.csv\")\n",
    "artist = pd.read_csv(\"data_by_artist.csv\")\n",
    "genre = pd.read_csv(\"data_by_genres.csv\")\n",
    "year = pd.read_csv(\"data_by_year.csv\")\n",
    "genres = pd.read_csv(\"data_w_genres.csv\")"
   ]
  },
  {
   "cell_type": "markdown",
   "id": "cea45762-639b-41ad-a106-2d23a7f7e13a",
   "metadata": {},
   "source": [
    "track的音訊變數的解釋：\n",
    "https://developer.spotify.com/documentation/web-api/reference/get-audio-features\n",
    "\n",
    "\n",
    "額外的音訊分析變數：\n",
    "https://developer.spotify.com/documentation/web-api/reference/get-audio-analysis"
   ]
  },
  {
   "cell_type": "markdown",
   "id": "83a46143-6815-4cec-8522-67bd355c3250",
   "metadata": {},
   "source": [
    "## 蒐集Spotify歌曲資料的音樂類別資訊（genres）"
   ]
  },
  {
   "cell_type": "code",
   "execution_count": 2,
   "id": "c4bac26b-4701-4be0-8c69-acd00fed3870",
   "metadata": {},
   "outputs": [],
   "source": [
    "client_id='c91a738c12e8443bb4915645c20a9599'\n",
    "client_secret='da0d247a355e4abc9d3130ed70c01ff1'\n",
    "\n",
    "sp = spotipy.Spotify(auth_manager=SpotifyClientCredentials(client_id=client_id,client_secret=client_secret))"
   ]
  },
  {
   "cell_type": "code",
   "execution_count": null,
   "id": "17196ba3-9aa0-482f-8bc1-e023b7baebb1",
   "metadata": {},
   "outputs": [],
   "source": [
    "start_index = 0\n",
    "end_index = 134001\n",
    "batch_size = 50\n",
    "\n",
    "for i in range(start_index, end_index, batch_size):\n",
    "    # 取得要處理的 track_ids\n",
    "    track_ids = df.iloc[i:i+batch_size]['id'].tolist()\n",
    "\n",
    "    # 使用 Spotify API 取得 tracks 的詳細資訊\n",
    "    tracks_info = sp.tracks(track_ids)\n",
    "\n",
    "    # 建立一個空的 DataFrame 來存儲結果\n",
    "    result_df = pd.DataFrame(columns=['id', 'genres'])\n",
    "\n",
    "    time.sleep(0.3) \n",
    "    # 遍歷每個 track 的詳細資訊\n",
    "    for track_info in tracks_info['tracks']:\n",
    "        artists = track_info['artists']\n",
    "        artist_ids = [artist['id'] for artist in artists]\n",
    "        \n",
    "        # 使用 Spotify API 一次性獲取所有藝術家的詳細資訊\n",
    "        artists_info = sp.artists(artist_ids)\n",
    "\n",
    "        # 提取每個藝術家的音樂流派並存儲到 genres_list 中\n",
    "        genres_list = []\n",
    "        for artist_info in artists_info['artists']:\n",
    "            genres_list.extend(artist_info['genres'])\n",
    "\n",
    "        # 將 track 的 ID 和音樂流派資訊存儲到 result_df 中\n",
    "        result_df = pd.concat([result_df, pd.DataFrame({'id': [track_info['id']], 'genres': [genres_list]})], ignore_index=True)\n",
    "        time.sleep(0.5) \n",
    "\n",
    "    # 將結果合併到原始 DataFrame 中\n",
    "    df.iloc[i:i+batch_size, df.columns.get_loc('genres')] = result_df['genres']"
   ]
  },
  {
   "cell_type": "code",
   "execution_count": 266,
   "id": "b5ea2092-a8ac-4509-bbd0-32fbb19cc9f5",
   "metadata": {},
   "outputs": [],
   "source": [
    "df.to_csv('df.csv', index=False) "
   ]
  },
  {
   "cell_type": "markdown",
   "id": "245277ec-be7a-4803-a6fd-0fe853dc8906",
   "metadata": {},
   "source": [
    "### 用先前已蒐集的歌曲資料進行整理"
   ]
  },
  {
   "cell_type": "code",
   "execution_count": 259,
   "id": "96adac8c-b3bb-4df3-af18-899494db387e",
   "metadata": {},
   "outputs": [],
   "source": [
    "start = 147001\n",
    "end = 149001\n",
    "\n",
    "for i in range(start, end):\n",
    "    target = df.iloc[i]['artists']\n",
    "    # 去除特殊符號 []\n",
    "    target = target.strip(\"[]\").replace(\"'\", \"\").split(\", \")\n",
    "    # 找出完全符合 target 的索引\n",
    "    index = df[df['artists'].apply(lambda x: x.strip(\"[]\").replace(\"'\", \"\").split(\", \") == target)]\n",
    "    if not index.empty:\n",
    "        if i > index.index[0]:  # i 大於 index\n",
    "            df.at[i, 'genres'] = index.iloc[0]['genres']"
   ]
  },
  {
   "cell_type": "markdown",
   "id": "24a56f9d",
   "metadata": {},
   "source": [
    "### 補齊遺漏未蒐集資料的Genres"
   ]
  },
  {
   "cell_type": "code",
   "execution_count": 172,
   "id": "cee0188e-3dea-470e-9dc4-bb685279a8fd",
   "metadata": {},
   "outputs": [],
   "source": [
    "na_data = df[(df['genres'].isnull()) & (df.index >= start) & (df.index < end)].index"
   ]
  },
  {
   "cell_type": "code",
   "execution_count": 173,
   "id": "3d81b357-b7ae-4fb6-9578-658a44666928",
   "metadata": {},
   "outputs": [],
   "source": [
    "track_ids = df.iloc[na_data]['id'].tolist()"
   ]
  },
  {
   "cell_type": "code",
   "execution_count": 174,
   "id": "b8d5e2aa-5e8c-4493-be75-9a133c89351c",
   "metadata": {},
   "outputs": [],
   "source": [
    "result_df = pd.DataFrame(columns=['id', 'genres'])\n",
    "\n",
    "# 分批處理每一組 50 筆資料\n",
    "for i in range(0, len(na_data), 50):\n",
    "    # 取得這一組的 track_ids\n",
    "    batch_track_ids = track_ids[i:i+50]\n",
    "    \n",
    "    # 使用 Spotify API 獲取這一組 track 的詳細資訊\n",
    "    tracks_info = sp.tracks(batch_track_ids)\n",
    "    \n",
    "    # 初始化存儲每一組結果的 DataFrame\n",
    "    batch_result_df = pd.DataFrame(columns=['id', 'genres'])\n",
    "    \n",
    "    # 遍歷每個 track 的詳細資訊\n",
    "    for track_info in tracks_info['tracks']:\n",
    "        artists = track_info['artists']\n",
    "        artist_ids = [artist['id'] for artist in artists]\n",
    "\n",
    "        # 使用 Spotify API 獲取每個藝術家的詳細資訊\n",
    "        artists_info = sp.artists(artist_ids)\n",
    "\n",
    "        # 提取每個藝術家的音樂流派並存儲到 genres_list 中\n",
    "        genres_set = set()  # 使用集合來去除重複的值\n",
    "        for artist_info in artists_info['artists']:\n",
    "            genres_set.update(artist_info['genres'])  # 使用 update 方法將所有流派加入集合中\n",
    "\n",
    "        # 將集合轉換為列表，並將其存入 batch_result_df 中\n",
    "        genres_list = list(genres_set)\n",
    "    \n",
    "        # 將 track 的 ID 和音樂流派資訊存儲到 batch_result_df 中\n",
    "        batch_result_df = pd.concat([batch_result_df, pd.DataFrame({'id': [track_info['id']], 'genres': [genres_list]})], ignore_index=True)\n",
    "    # 將這一組結果存入 result_df 中\n",
    "    result_df = pd.concat([result_df, batch_result_df], ignore_index=True)\n",
    "\n",
    "# 將結果更新到原始 DataFrame 中\n",
    "df.iloc[na_data, df.columns.get_loc('genres')] = result_df['genres']"
   ]
  },
  {
   "cell_type": "code",
   "execution_count": 187,
   "id": "5438d1b7-207f-4742-b698-ac0372d9876a",
   "metadata": {},
   "outputs": [],
   "source": [
    "df.iloc[na_data, df.columns.get_loc('genres')] = result_df['genres']"
   ]
  }
 ],
 "metadata": {
  "kernelspec": {
   "display_name": "Python 3 (ipykernel)",
   "language": "python",
   "name": "python3"
  },
  "language_info": {
   "codemirror_mode": {
    "name": "ipython",
    "version": 3
   },
   "file_extension": ".py",
   "mimetype": "text/x-python",
   "name": "python",
   "nbconvert_exporter": "python",
   "pygments_lexer": "ipython3",
   "version": "3.11.7"
  }
 },
 "nbformat": 4,
 "nbformat_minor": 5
}
